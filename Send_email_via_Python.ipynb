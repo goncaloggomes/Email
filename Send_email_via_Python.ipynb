{
 "cells": [
  {
   "cell_type": "markdown",
   "metadata": {},
   "source": [
    "# **How to send emails through Python**\n",
    "#### Let's drive-thhough the process of configurating the Gmail account and setting-up Python's code to do the job."
   ]
  },
  {
   "cell_type": "markdown",
   "metadata": {},
   "source": [
    "---\n",
    "## Set up Gmail account"
   ]
  },
  {
   "cell_type": "markdown",
   "metadata": {},
   "source": [
    "The first thing to do is to set up the Gmail account authorizing a third-party application to have access to it, in three simple steps.\n",
    "\n",
    "1. Go to Google Account preferences > Security (on the left panel) > Signing into Google and clicking on App passwords.\n",
    "\n",
    "2. Click on Select app (drop-down menu), define a custom name (a name of your choice), and hit the Generate button.\n",
    "\n",
    "3. You will then see a pop-up with your generated password ← Save your password in a safe place and copy it."
   ]
  },
  {
   "cell_type": "markdown",
   "metadata": {},
   "source": [
    "---\n",
    "## The code"
   ]
  },
  {
   "cell_type": "markdown",
   "metadata": {},
   "source": [
    "### Header structure\n",
    "\n",
    "Import the built-in Python library and dependency that will do all the work as well as the variables for the email and password variables. Copy & past the generated password — created a while ago — in the variable `email password`."
   ]
  },
  {
   "cell_type": "code",
   "execution_count": 7,
   "metadata": {},
   "outputs": [],
   "source": [
    "# Imports\n",
    "import smtplib\n",
    "from email.message import EmailMessage\n",
    "\n",
    "# Variables containing your email address and password\n",
    "EMAIL_ADDRESS = 'your_email@gmail.com'\n",
    "EMAIL_PASSWORD = 'your_generated_password'"
   ]
  },
  {
   "cell_type": "markdown",
   "metadata": {},
   "source": [
    "### Subject, From, To and Message\n",
    "\n",
    "It’s time to provide the information regarding the email Subject line, the From and To fields, as well as the content of the email.\n",
    "\n",
    "For the simplicity of the example, I’ll send it to my own Gmail account, meaning that the ‘From’ and ‘To’ are the same `email address` variable, with the subject ‘My first Python email’ and the message ‘Hello world!’."
   ]
  },
  {
   "cell_type": "code",
   "execution_count": 19,
   "metadata": {},
   "outputs": [],
   "source": [
    "# Create an instance of the EmailMessage class\n",
    "msg = EmailMessage() \n",
    "\n",
    "# Define the 'Subject' of the email\n",
    "msg['Subject'] = 'My first Python email' \n",
    "\n",
    "# Define 'From' (your email address)\n",
    "msg['From'] = EMAIL_ADDRESS \n",
    "\n",
    "# Define 'To' (to whom is it addressed)\n",
    "msg['To'] = EMAIL_ADDRESS\n",
    "\n",
    "# The email content (your message)\n",
    "msg.set_content('Hello world!')"
   ]
  },
  {
   "cell_type": "markdown",
   "metadata": {},
   "source": [
    "### Connect to Gmail SMTP Server\n",
    "\n",
    "It's time to connect to the Gmail SMTP server so Python can log in into the email account to send the email.\n",
    "\n",
    "The connection will be established with the host `smtp.gmail.com` and `port 465`."
   ]
  },
  {
   "cell_type": "code",
   "execution_count": 20,
   "metadata": {},
   "outputs": [],
   "source": [
    "# Establishing a secure connection (SSL)\n",
    "with smtplib.SMTP_SSL('smtp.gmail.com', 465) as smtp:\n",
    "    \n",
    "    # Login to your email account\n",
    "    smtp.login(EMAIL_ADDRESS, EMAIL_PASSWORD) \n",
    "    \n",
    "    # Send the email\n",
    "    smtp.send_message(msg)"
   ]
  },
  {
   "cell_type": "markdown",
   "metadata": {},
   "source": [
    "### Including attachments\n",
    "\n",
    "Sending attachments is very straightforward. All that is needed to do is to open each attachment with the `with open` syntax as well as the `.add_attachment()` method from the class `EmailMessage`.\n",
    "\n",
    "In this example, I’ll send an image located in the same folder as my .ipynb. Include your attachment with the path of the file (if located in another folder on your computer). You can send whatever type of file: pdf, jpg, txt, etc."
   ]
  },
  {
   "cell_type": "code",
   "execution_count": 21,
   "metadata": {},
   "outputs": [],
   "source": [
    "# Including attachments\n",
    "with open('image.jpg', 'rb') as attach:\n",
    "    msg.add_attachment(attach.read(), maintype='application', subtype='octet-stream', filename=attach.name)"
   ]
  },
  {
   "cell_type": "markdown",
   "metadata": {},
   "source": [
    "### The code in one go"
   ]
  },
  {
   "cell_type": "code",
   "execution_count": 25,
   "metadata": {},
   "outputs": [],
   "source": [
    "import smtplib\n",
    "from email.message import EmailMessage\n",
    "\n",
    "EMAIL_ADDRESS = 'your_email@gmail.com'\n",
    "EMAIL_PASSWORD = 'your_generated_password'\n",
    "\n",
    "msg = EmailMessage()\n",
    "msg['Subject'] = 'My first Python email'\n",
    "msg['From'] = EMAIL_ADDRESS\n",
    "msg['To'] = EMAIL_ADDRESS\n",
    "msg.set_content('Hello world!')\n",
    "\n",
    "with open('image.jpg', 'rb') as attach:\n",
    "    msg.add_attachment(attach.read(), maintype='application', subtype='octet-stream', filename=attach.name)\n",
    "    \n",
    "with smtplib.SMTP_SSL('smtp.gmail.com', 465) as smtp:\n",
    "    smtp.login(EMAIL_ADDRESS, EMAIL_PASSWORD)\n",
    "    smtp.send_message(msg)"
   ]
  },
  {
   "cell_type": "markdown",
   "metadata": {},
   "source": [
    "---"
   ]
  },
  {
   "cell_type": "markdown",
   "metadata": {},
   "source": [
    "### The fancy way\n",
    "\n",
    "How about creating a function with a few modifications to make it even more friendly?\n",
    "\n",
    "We will define a function and instructing Python to prompt the following:\n",
    "\n",
    "- Mailto (you can include as many email addresses as you’d like by separating them with commas)\n",
    "- Subject (the subject line)\n",
    "- Message (the email body)\n",
    "- Attachments (press Enter if you don’t wish to include any attachments)"
   ]
  },
  {
   "cell_type": "code",
   "execution_count": 26,
   "metadata": {},
   "outputs": [],
   "source": [
    "import smtplib\n",
    "from email.message import EmailMessage\n",
    "\n",
    "EMAIL_ADDRESS = 'your_email@gmail.com'\n",
    "EMAIL_PASSWORD = 'your_generated_password'\n",
    "\n",
    "def email():\n",
    "    msg = EmailMessage()\n",
    "    msg['To'] = input(\"Mailto: \")\n",
    "    msg['Subject'] = input(\"\\nSubject: \")\n",
    "    msg['From'] = EMAIL_ADDRESS\n",
    "    x = input(\"Message: \")\n",
    "    msg.set_content(x)\n",
    "    \n",
    "    att = input('\\nAttachment: (press Enter to skip) ')\n",
    "    if att == '':\n",
    "        print('N/A')\n",
    "\n",
    "    else:\n",
    "        with open(att, 'rb') as attach:\n",
    "            msg.add_attachment(attach.read(), maintype='application', subtype='octet-stream', filename=attach.name)\n",
    "        \n",
    "    with smtplib.SMTP_SSL('smtp.gmail.com', 465) as smtp:\n",
    "        smtp.login(EMAIL_ADDRESS, EMAIL_PASSWORD) \n",
    "        smtp.send_message(msg)\n",
    "        \n",
    "    print(\"\\n** Email sent. **\")"
   ]
  },
  {
   "cell_type": "code",
   "execution_count": 27,
   "metadata": {},
   "outputs": [
    {
     "name": "stdin",
     "output_type": "stream",
     "text": [
      "Mailto:  example@gmail.com, example2@gmail.com\n",
      "\n",
      "Subject:  My first automated Python email\n",
      "Message:  Hello world!\n",
      "\n",
      "Attachment: (press Enter to skip)  image.jpg\n"
     ]
    },
    {
     "name": "stdout",
     "output_type": "stream",
     "text": [
      "\n",
      "** Email sent. **\n"
     ]
    }
   ],
   "source": [
    "email()"
   ]
  },
  {
   "cell_type": "markdown",
   "metadata": {},
   "source": [
    "---\n",
    "---\n",
    "Gonçalo Guimarães Gomes"
   ]
  }
 ],
 "metadata": {
  "kernelspec": {
   "display_name": "Python 3",
   "language": "python",
   "name": "python3"
  },
  "language_info": {
   "codemirror_mode": {
    "name": "ipython",
    "version": 3
   },
   "file_extension": ".py",
   "mimetype": "text/x-python",
   "name": "python",
   "nbconvert_exporter": "python",
   "pygments_lexer": "ipython3",
   "version": "3.7.6"
  }
 },
 "nbformat": 4,
 "nbformat_minor": 4
}
